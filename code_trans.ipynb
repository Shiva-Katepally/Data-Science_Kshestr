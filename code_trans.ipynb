{
 "cells": [
  {
   "cell_type": "code",
   "execution_count": 1,
   "metadata": {
    "collapsed": true
   },
   "outputs": [],
   "source": [
    "import pandas as pd\n",
    "data = pd.read_csv('/home/fission/Downloads/sample_dataset.csv')"
   ]
  },
  {
   "cell_type": "code",
   "execution_count": 5,
   "metadata": {
    "collapsed": true
   },
   "outputs": [],
   "source": [
    "# -*- coding: utf-8 -*-\n",
    "\"\"\"\n",
    "A Translation module.\n",
    "You can translate text using this module.\n",
    "\"\"\"\n",
    "import requests\n",
    "import random\n",
    "\n",
    "from googletrans import urls, utils\n",
    "from googletrans.compat import PY3\n",
    "from googletrans.gtoken import TokenAcquirer\n",
    "from googletrans.constants import DEFAULT_USER_AGENT, LANGCODES, LANGUAGES, SPECIAL_CASES\n",
    "from googletrans.models import Translated, Detected\n",
    "\n",
    "\n",
    "EXCLUDES = ('en', 'ca', 'fr')\n",
    "\n",
    "\n",
    "class Translator(object):\n",
    "    \"\"\"Google Translate ajax API implementation class\n",
    "    You have to create an instance of Translator to use this API\n",
    "    :param service_urls: google translate url list. URLs will be used randomly.\n",
    "                         For example ``['translate.google.com', 'translate.google.co.kr']``\n",
    "    :type service_urls: a sequence of strings\n",
    "    :param user_agent: the User-Agent header to send when making requests.\n",
    "    :type user_agent: :class:`str`\n",
    "    :param proxies: proxies configuration. \n",
    "                    Dictionary mapping protocol or protocol and host to the URL of the proxy \n",
    "                    For example ``{'http': 'foo.bar:3128', 'http://host.name': 'foo.bar:4012'}``\n",
    "    \"\"\"\n",
    "\n",
    "    def __init__(self, service_urls=None, user_agent=DEFAULT_USER_AGENT, proxies=None):\n",
    "        self.session = requests.Session()\n",
    "        if proxies is not None:\n",
    "            self.session.proxies = proxies\n",
    "        self.session.headers.update({\n",
    "            'User-Agent': user_agent,\n",
    "        })\n",
    "        self.service_urls = service_urls or ['translate.google.com']\n",
    "        self.token_acquirer = TokenAcquirer(session=self.session, host=self.service_urls[0])\n",
    "\n",
    "        # Use HTTP2 Adapter if hyper is installed\n",
    "        try:  # pragma: nocover\n",
    "            from hyper.contrib import HTTP20Adapter\n",
    "            self.session.mount(urls.BASE, HTTP20Adapter())\n",
    "        except ImportError:  # pragma: nocover\n",
    "            pass\n",
    "\n",
    "    def _pick_service_url(self):\n",
    "        if len(self.service_urls) == 1:\n",
    "            return self.service_urls[0]\n",
    "        return random.choice(self.service_urls)\n",
    "\n",
    "    def _translate(self, text, dest, src):\n",
    "        if not PY3 and isinstance(text, str):  # pragma: nocover\n",
    "            text = text.decode('utf-8')\n",
    "\n",
    "        token = self.token_acquirer.do(text)\n",
    "        params = utils.build_params(query=text, src=src, dest=dest,\n",
    "                                    token=token)\n",
    "        url = urls.TRANSLATE.format(host=self._pick_service_url())\n",
    "        r = self.session.get(url, params=params)\n",
    "        \n",
    "        try:\n",
    "            r = requests.get('url')\n",
    "            print(r.json)\n",
    "\n",
    "        except json.decoder.JSONDecodeError:\n",
    "            print(r.content)\n",
    "\n",
    "        data = utils.format_json(r.text)\n",
    "        return data\n",
    "    \n",
    "        \n",
    "\n",
    "    def translate(self, text, dest='en', src='auto'):\n",
    "        \"\"\"Translate text from source language to destination language\n",
    "        :param text: The source text(s) to be translated. Batch translation is supported via sequence input.\n",
    "        :type text: UTF-8 :class:`str`; :class:`unicode`; string sequence (list, tuple, iterator, generator)\n",
    "        :param dest: The language to translate the source text into.\n",
    "                     The value should be one of the language codes listed in :const:`googletrans.LANGUAGES`\n",
    "                     or one of the language names listed in :const:`googletrans.LANGCODES`.\n",
    "        :param dest: :class:`str`; :class:`unicode`\n",
    "        :param src: The language of the source text.\n",
    "                    The value should be one of the language codes listed in :const:`googletrans.LANGUAGES`\n",
    "                    or one of the language names listed in :const:`googletrans.LANGCODES`.\n",
    "                    If a language is not specified,\n",
    "                    the system will attempt to identify the source language automatically.\n",
    "        :param src: :class:`str`; :class:`unicode`\n",
    "        :rtype: Translated\n",
    "        :rtype: :class:`list` (when a list is passed)\n",
    "        Basic usage:\n",
    "            >>> from googletrans import Translator\n",
    "            >>> translator = Translator()\n",
    "            >>> translator.translate('안녕하세요.')\n",
    "            <Translated src=ko dest=en text=Good evening. pronunciation=Good evening.>\n",
    "            >>> translator.translate('안녕하세요.', dest='ja')\n",
    "            <Translated src=ko dest=ja text=こんにちは。 pronunciation=Kon'nichiwa.>\n",
    "            >>> translator.translate('veritas lux mea', src='la')\n",
    "            <Translated src=la dest=en text=The truth is my light pronunciation=The truth is my light>\n",
    "        Advanced usage:\n",
    "            >>> translations = translator.translate(['The quick brown fox', 'jumps over', 'the lazy dog'], dest='ko')\n",
    "            >>> for translation in translations:\n",
    "            ...    print(translation.origin, ' -> ', translation.text)\n",
    "            The quick brown fox  ->  빠른 갈색 여우\n",
    "            jumps over  ->  이상 점프\n",
    "            the lazy dog  ->  게으른 개\n",
    "        \"\"\"\n",
    "        dest = dest.lower().split('_', 1)[0]\n",
    "        src = src.lower().split('_', 1)[0]\n",
    "\n",
    "        if src != 'auto' and src not in LANGUAGES:\n",
    "            if src in SPECIAL_CASES:\n",
    "                src = SPECIAL_CASES[src]\n",
    "            elif src in LANGCODES:\n",
    "                src = LANGCODES[src]\n",
    "            else:\n",
    "                raise ValueError('invalid source language')\n",
    "\n",
    "        if dest not in LANGUAGES:\n",
    "            if dest in SPECIAL_CASES:\n",
    "                dest = SPECIAL_CASES[dest]\n",
    "            elif dest in LANGCODES:\n",
    "                dest = LANGCODES[dest]\n",
    "            else:\n",
    "                raise ValueError('invalid destination language')\n",
    "\n",
    "        if isinstance(text, list):\n",
    "            result = []\n",
    "            for item in text:\n",
    "                translated = self.translate(item, dest=dest, src=src)\n",
    "                result.append(translated)\n",
    "            return result\n",
    "\n",
    "        origin = text\n",
    "        data = self._translate(text, dest, src)\n",
    "\n",
    "        # this code will be updated when the format is changed.\n",
    "        translated = ''.join([d[0] if d[0] else '' for d in data[0]])\n",
    "\n",
    "        # actual source language that will be recognized by Google Translator when the\n",
    "        # src passed is equal to auto.\n",
    "        try:\n",
    "            src = data[2]\n",
    "        except Exception:  # pragma: nocover\n",
    "            pass\n",
    "\n",
    "        pron = origin\n",
    "        try:\n",
    "            pron = data[0][1][-2]\n",
    "        except Exception:  # pragma: nocover\n",
    "            pass\n",
    "        if not PY3 and isinstance(pron, unicode) and isinstance(origin, str):  # pragma: nocover\n",
    "            origin = origin.decode('utf-8')\n",
    "        if dest in EXCLUDES and pron == origin:\n",
    "            pron = translated\n",
    "\n",
    "        # for python 2.x compatbillity\n",
    "        if not PY3:  # pragma: nocover\n",
    "            if isinstance(src, str):\n",
    "                src = src.decode('utf-8')\n",
    "            if isinstance(dest, str):\n",
    "                dest = dest.decode('utf-8')\n",
    "            if isinstance(translated, str):\n",
    "                translated = translated.decode('utf-8')\n",
    "\n",
    "        # put final values into a new Translated object\n",
    "        result = Translated(src=src, dest=dest, origin=origin,\n",
    "                            text=translated, pronunciation=pron)\n",
    "\n",
    "        return result\n",
    "\n",
    "    def detect(self, text):\n",
    "        \"\"\"Detect language of the input text\n",
    "        :param text: The source text(s) whose language you want to identify.\n",
    "                     Batch detection is supported via sequence input.\n",
    "        :type text: UTF-8 :class:`str`; :class:`unicode`; string sequence (list, tuple, iterator, generator)\n",
    "        :rtype: Detected\n",
    "        :rtype: :class:`list` (when a list is passed)\n",
    "        Basic usage:\n",
    "            >>> from googletrans import Translator\n",
    "            >>> translator = Translator()\n",
    "            >>> translator.detect('이 문장은 한글로 쓰여졌습니다.')\n",
    "            <Detected lang=ko confidence=0.27041003>\n",
    "            >>> translator.detect('この文章は日本語で書かれました。')\n",
    "            <Detected lang=ja confidence=0.64889508>\n",
    "            >>> translator.detect('This sentence is written in English.')\n",
    "            <Detected lang=en confidence=0.22348526>\n",
    "            >>> translator.detect('Tiu frazo estas skribita en Esperanto.')\n",
    "            <Detected lang=eo confidence=0.10538048>\n",
    "        Advanced usage:\n",
    "            >>> langs = translator.detect(['한국어', '日本語', 'English', 'le français'])\n",
    "            >>> for lang in langs:\n",
    "            ...    print(lang.lang, lang.confidence)\n",
    "            ko 1\n",
    "            ja 0.92929292\n",
    "            en 0.96954316\n",
    "            fr 0.043500196\n",
    "        \"\"\"\n",
    "        if isinstance(text, list):\n",
    "            result = []\n",
    "            for item in text:\n",
    "                lang = self.detect(item)\n",
    "                result.append(lang)\n",
    "            return result\n",
    "\n",
    "        data = self._translate(text, dest='en', src='auto')\n",
    "\n",
    "        # actual source language that will be recognized by Google Translator when the\n",
    "        # src passed is equal to auto.\n",
    "        src = ''\n",
    "        confidence = 0.0\n",
    "        try:\n",
    "            src = ''.join(data[8][0])\n",
    "            confidence = data[8][-2][0]\n",
    "        except Exception:  # pragma: nocover\n",
    "            pass\n",
    "        result = Detected(lang=src, confidence=confidence)\n",
    "\n",
    "        return result"
   ]
  },
  {
   "cell_type": "code",
   "execution_count": 2,
   "metadata": {},
   "outputs": [
    {
     "data": {
      "text/plain": [
       "(3236, 7)"
      ]
     },
     "execution_count": 2,
     "metadata": {},
     "output_type": "execute_result"
    }
   ],
   "source": [
    "data.shape"
   ]
  },
  {
   "cell_type": "code",
   "execution_count": 3,
   "metadata": {},
   "outputs": [
    {
     "data": {
      "text/html": [
       "<div>\n",
       "<style scoped>\n",
       "    .dataframe tbody tr th:only-of-type {\n",
       "        vertical-align: middle;\n",
       "    }\n",
       "\n",
       "    .dataframe tbody tr th {\n",
       "        vertical-align: top;\n",
       "    }\n",
       "\n",
       "    .dataframe thead th {\n",
       "        text-align: right;\n",
       "    }\n",
       "</style>\n",
       "<table border=\"1\" class=\"dataframe\">\n",
       "  <thead>\n",
       "    <tr style=\"text-align: right;\">\n",
       "      <th></th>\n",
       "      <th>index</th>\n",
       "      <th>Voter_id</th>\n",
       "      <th>Voter_name</th>\n",
       "      <th>Gender_Voter</th>\n",
       "      <th>Voter_age</th>\n",
       "      <th>Guardian_name</th>\n",
       "      <th>Gender_guardian</th>\n",
       "    </tr>\n",
       "  </thead>\n",
       "  <tbody>\n",
       "    <tr>\n",
       "      <th>0</th>\n",
       "      <td>1</td>\n",
       "      <td>WYT0663535</td>\n",
       "      <td>VENKAT REDDY NUKALA</td>\n",
       "      <td>Male</td>\n",
       "      <td>51</td>\n",
       "      <td>RANGA REDDY NUKALA</td>\n",
       "      <td>Male</td>\n",
       "    </tr>\n",
       "  </tbody>\n",
       "</table>\n",
       "</div>"
      ],
      "text/plain": [
       "   index    Voter_id           Voter_name Gender_Voter Voter_age  \\\n",
       "0      1  WYT0663535  VENKAT REDDY NUKALA         Male        51   \n",
       "\n",
       "         Guardian_name Gender_guardian  \n",
       "0   RANGA REDDY NUKALA            Male  "
      ]
     },
     "execution_count": 3,
     "metadata": {},
     "output_type": "execute_result"
    }
   ],
   "source": [
    "data.head(1)"
   ]
  },
  {
   "cell_type": "code",
   "execution_count": 12,
   "metadata": {
    "collapsed": true
   },
   "outputs": [],
   "source": [
    "d = data['Voter_name']"
   ]
  },
  {
   "cell_type": "code",
   "execution_count": 6,
   "metadata": {
    "collapsed": true
   },
   "outputs": [],
   "source": [
    "from googletrans import Translator\n",
    "\n",
    "translator = Translator()"
   ]
  },
  {
   "cell_type": "code",
   "execution_count": 7,
   "metadata": {
    "collapsed": true
   },
   "outputs": [],
   "source": [
    "def transliterate(x):\n",
    "    return translator.translate(x, dest='te', src='te').text"
   ]
  },
  {
   "cell_type": "code",
   "execution_count": 13,
   "metadata": {
    "collapsed": true
   },
   "outputs": [],
   "source": [
    "import time\n",
    "\n",
    "for key,value in d.iteritems():\n",
    "      try:\n",
    "        voter_na.append(transliterate(value))\n",
    "        time.sleep(0.5)\n",
    "      except:\n",
    "        voter_na.append(value)"
   ]
  },
  {
   "cell_type": "code",
   "execution_count": 28,
   "metadata": {
    "collapsed": true
   },
   "outputs": [],
   "source": [
    "lis = []\n",
    "for i in voter_na:\n",
    "    lis.append(i.encode('utf8'))"
   ]
  },
  {
   "cell_type": "code",
   "execution_count": 31,
   "metadata": {
    "collapsed": true
   },
   "outputs": [],
   "source": [
    "data['Voter_name_telugu'] = lis"
   ]
  },
  {
   "cell_type": "code",
   "execution_count": 32,
   "metadata": {},
   "outputs": [
    {
     "data": {
      "text/html": [
       "<div>\n",
       "<style scoped>\n",
       "    .dataframe tbody tr th:only-of-type {\n",
       "        vertical-align: middle;\n",
       "    }\n",
       "\n",
       "    .dataframe tbody tr th {\n",
       "        vertical-align: top;\n",
       "    }\n",
       "\n",
       "    .dataframe thead th {\n",
       "        text-align: right;\n",
       "    }\n",
       "</style>\n",
       "<table border=\"1\" class=\"dataframe\">\n",
       "  <thead>\n",
       "    <tr style=\"text-align: right;\">\n",
       "      <th></th>\n",
       "      <th>index</th>\n",
       "      <th>Voter_id</th>\n",
       "      <th>Voter_name</th>\n",
       "      <th>Gender_Voter</th>\n",
       "      <th>Voter_age</th>\n",
       "      <th>Guardian_name</th>\n",
       "      <th>Gender_guardian</th>\n",
       "      <th>Voter_name_telugu</th>\n",
       "    </tr>\n",
       "  </thead>\n",
       "  <tbody>\n",
       "    <tr>\n",
       "      <th>0</th>\n",
       "      <td>1</td>\n",
       "      <td>WYT0663535</td>\n",
       "      <td>VENKAT REDDY NUKALA</td>\n",
       "      <td>Male</td>\n",
       "      <td>51</td>\n",
       "      <td>RANGA REDDY NUKALA</td>\n",
       "      <td>Male</td>\n",
       "      <td>వెంకట్ రెడ్డి నూకల</td>\n",
       "    </tr>\n",
       "  </tbody>\n",
       "</table>\n",
       "</div>"
      ],
      "text/plain": [
       "   index    Voter_id           Voter_name Gender_Voter Voter_age  \\\n",
       "0      1  WYT0663535  VENKAT REDDY NUKALA         Male        51   \n",
       "\n",
       "         Guardian_name Gender_guardian   Voter_name_telugu  \n",
       "0   RANGA REDDY NUKALA            Male  వెంకట్ రెడ్డి నూకల  "
      ]
     },
     "execution_count": 32,
     "metadata": {},
     "output_type": "execute_result"
    }
   ],
   "source": [
    "data.head(1)"
   ]
  },
  {
   "cell_type": "code",
   "execution_count": 26,
   "metadata": {
    "collapsed": true
   },
   "outputs": [],
   "source": [
    "s1 =  (u'\\u0c1c\\u0c3e\\u0c28\\u0c4d \\u0c30\\u0c46\\u0c21\\u0c4d\\u0c21\\u0c3f \\u0c15\\u0c4a\\u0c23\\u0c24\\u0c02'.encode('utf8'))"
   ]
  },
  {
   "cell_type": "code",
   "execution_count": 27,
   "metadata": {},
   "outputs": [
    {
     "data": {
      "text/plain": [
       "'\\xe0\\xb0\\x9c\\xe0\\xb0\\xbe\\xe0\\xb0\\xa8\\xe0\\xb1\\x8d \\xe0\\xb0\\xb0\\xe0\\xb1\\x86\\xe0\\xb0\\xa1\\xe0\\xb1\\x8d\\xe0\\xb0\\xa1\\xe0\\xb0\\xbf \\xe0\\xb0\\x95\\xe0\\xb1\\x8a\\xe0\\xb0\\xa3\\xe0\\xb0\\xa4\\xe0\\xb0\\x82'"
      ]
     },
     "execution_count": 27,
     "metadata": {},
     "output_type": "execute_result"
    }
   ],
   "source": [
    "for i in "
   ]
  },
  {
   "cell_type": "code",
   "execution_count": 29,
   "metadata": {},
   "outputs": [
    {
     "data": {
      "text/plain": [
       "3236"
      ]
     },
     "execution_count": 29,
     "metadata": {},
     "output_type": "execute_result"
    }
   ],
   "source": [
    "len(lis)"
   ]
  },
  {
   "cell_type": "code",
   "execution_count": 33,
   "metadata": {
    "collapsed": true
   },
   "outputs": [],
   "source": [
    "data.to_csv('telugu.csv',index=True)"
   ]
  },
  {
   "cell_type": "code",
   "execution_count": null,
   "metadata": {
    "collapsed": true
   },
   "outputs": [],
   "source": []
  }
 ],
 "metadata": {
  "kernelspec": {
   "display_name": "Python 3",
   "language": "python",
   "name": "python3"
  },
  "language_info": {
   "codemirror_mode": {
    "name": "ipython",
    "version": 3
   },
   "file_extension": ".py",
   "mimetype": "text/x-python",
   "name": "python",
   "nbconvert_exporter": "python",
   "pygments_lexer": "ipython3",
   "version": "3.5.3"
  }
 },
 "nbformat": 4,
 "nbformat_minor": 2
}
