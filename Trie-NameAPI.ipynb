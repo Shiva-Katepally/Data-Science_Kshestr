{
 "cells": [
  {
   "cell_type": "code",
   "execution_count": 26,
   "metadata": {
    "collapsed": true
   },
   "outputs": [],
   "source": [
    "import gc\n",
    "import json\n",
    "import time\n",
    "import difflib\n",
    "import requests\n",
    "import numpy as np\n",
    "import regex as re\n",
    "import pandas as pd\n",
    "from fuzzywuzzy import fuzz\n",
    "from fuzzywuzzy import process\n",
    "from collections import Counter\n",
    "from difflib import SequenceMatcher\n",
    "from pyphonetics import Metaphone, RefinedSoundex, Soundex, FuzzySoundex"
   ]
  },
  {
   "cell_type": "code",
   "execution_count": 27,
   "metadata": {
    "collapsed": true
   },
   "outputs": [],
   "source": [
    "def similar_voter_guardian(x):\n",
    "    x1 = x.split(' ')\n",
    "    x1 = [i for i in x1 if i in df]\n",
    "    x1 = [' '.join(x1) if x1 else x]\n",
    "    return ' '.join(x1)"
   ]
  },
  {
   "cell_type": "code",
   "execution_count": 3,
   "metadata": {
    "collapsed": true
   },
   "outputs": [],
   "source": [
    "fuz = FuzzySoundex()\n",
    "meta = Metaphone()\n",
    "ref = RefinedSoundex()\n",
    "soundex = Soundex()"
   ]
  },
  {
   "cell_type": "code",
   "execution_count": 4,
   "metadata": {},
   "outputs": [],
   "source": [
    "train = pd.read_csv('/home/shameer/Desktop/Booths/English/089_CSV/008.csv')\n",
    "train['Voter_name'] = train['Voter_name'].apply(lambda x: x.lower())\n",
    "train['Guardian_name'] = train['Guardian_name'].apply(lambda x: x.lower())\n",
    "df = list(train['Voter_name'])\n",
    "df = [str(i) for i in df]\n",
    "df = [i.split(' ') for i in df]\n",
    "df = [j.lower() for i in df for j in i]\n",
    "d = [i for i in df if i.endswith('amma') | i.endswith('ayya') | i.endswith('iah') | i.endswith('kshmi') | i.endswith('xmi') | i.endswith('reddi') | i.endswith('anna')]\n",
    "df = [i for i in df if i not in d]\n",
    "train['new_col'] = train['Voter_name'].apply(lambda x: similar_voter_guardian(x))\n",
    "sur_names_corpus = list(set(list(pd.read_csv('all.csv')['0'])))\n",
    "sur_names_corpus = re.compile('\\w+').findall(' '.join(sur_names_corpus))\n",
    "sur_names_corpus = [i for i in sur_names_corpus if len(i)>1]"
   ]
  },
  {
   "cell_type": "code",
   "execution_count": 5,
   "metadata": {
    "collapsed": true
   },
   "outputs": [],
   "source": [
    "def similar(a, b):\n",
    "    return SequenceMatcher(None, a, b).ratio()"
   ]
  },
  {
   "cell_type": "code",
   "execution_count": 6,
   "metadata": {
    "collapsed": true
   },
   "outputs": [],
   "source": [
    " class TrieNode:\n",
    "     \n",
    "    \n",
    "    # Trie node class\n",
    "    def __init__(self, count, main_key, list1):\n",
    "        self.children = [None]*26\n",
    "        self.main_key = main_key\n",
    "        self.list_strings = list1\n",
    "        # isEndOfWord is True if node represent the end of the word\n",
    "        self.isEndOfWord = False\n",
    " \n",
    " class Trie:\n",
    "     \n",
    "    # Trie data structure class\n",
    "    def __init__(self):\n",
    "        self.root = self.getNode()\n",
    " \n",
    "    def getNode(self):\n",
    "     \n",
    "        # Returns new trie node (initialized to NULLs)\n",
    "        return TrieNode(0, '', [])\n",
    " \n",
    "    def _charToIndex(self,ch):\n",
    "         \n",
    "         \n",
    "        return ord(ch)-ord('a')\n",
    " \n",
    " \n",
    "    def insert(self,key):\n",
    "         \n",
    "        pCrawl = self.root\n",
    "        length = len(key)\n",
    "        for level in range(length):\n",
    "            index = self._charToIndex(key[level])\n",
    "            if index>=0 and index<=26:\n",
    "                # if current character is not present\n",
    "                if not pCrawl.children[index]:\n",
    "                    pCrawl.children[index] = self.getNode()\n",
    "                    pCrawl.children[index].main_key = key[:level+1]\n",
    "                if key not in pCrawl.children[index].list_strings:\n",
    "                        pCrawl.children[index].list_strings.append(key)\n",
    "                pCrawl = pCrawl.children[index]\n",
    " \n",
    "        # mark last node as leaf\n",
    "        if key not in pCrawl.list_strings:\n",
    "                pCrawl.list_strings.append(key)     \n",
    "        pCrawl.main_key = key\n",
    "        pCrawl.isEndOfWord = True\n",
    " \n",
    "    def search(self, key):\n",
    "         \n",
    "        pCrawl = self.root\n",
    "        length = len(key)\n",
    "        ans = []\n",
    "        for level in range(length):\n",
    "            index = self._charToIndex(key[level])\n",
    "            if pCrawl.children[index]:\n",
    "                ans = pCrawl.children[index].list_strings\n",
    "                if pCrawl.children[index].main_key == key:\n",
    "                    return pCrawl.children[index].list_strings\n",
    "            \n",
    "            if not pCrawl.children[index]:\n",
    "                return ans\n",
    "            pCrawl = pCrawl.children[index]\n",
    "            \n",
    "        if pCrawl != None and pCrawl.isEndOfWord:\n",
    "            return pCrawl.list_strings\n",
    "        \n",
    " \n",
    "\n",
    " t = Trie()\n",
    " \n",
    " # Construct trie\n",
    "for key in sur_names_corpus:\n",
    "     t.insert(key)\n",
    " "
   ]
  },
  {
   "cell_type": "code",
   "execution_count": 7,
   "metadata": {
    "collapsed": true
   },
   "outputs": [],
   "source": [
    "def add(row):\n",
    "    if ' ' in row['new_col']:\n",
    "        x = row['new_col'].split(' ')\n",
    "        x1 = row['Guardian_name'].split(' ')\n",
    "        for i in x:\n",
    "            if i in x1:\n",
    "                return i\n",
    "        else:\n",
    "            return None\n",
    "    else:\n",
    "        return row['new_col']"
   ]
  },
  {
   "cell_type": "code",
   "execution_count": 8,
   "metadata": {},
   "outputs": [],
   "source": [
    "train['surs'] = train.apply(add, axis=1)\n",
    "train['surs'] = train['surs'].replace('', 'None')\n",
    "train['surs'] = train['surs'].astype(str)"
   ]
  },
  {
   "cell_type": "code",
   "execution_count": 9,
   "metadata": {},
   "outputs": [],
   "source": [
    "def awl_in(row):\n",
    "    if len(re.compile('\\w+').findall(row['new_col']))>1:\n",
    "        surs = []\n",
    "        ratio = 0.85\n",
    "        ans = None\n",
    "        x = row['new_col'].split(' ')\n",
    "        x = re.compile('\\w+').findall(' '.join(x))\n",
    "        dict1 = {}\n",
    "        for i in x:\n",
    "            temp = t.search(i[0])\n",
    "            temp = process.extractBests(i, temp)\n",
    "            temp = [i[0] for i in temp]\n",
    "            t1 = difflib.get_close_matches(i, sur_names_corpus)\n",
    "            for k in t1:\n",
    "                temp.append(k)\n",
    "            for j in temp:\n",
    "                if (meta.sounds_like(i, j) & ref.sounds_like(i, j)) | (fuz.sounds_like(i, j) & ref.sounds_like(i, j)) | (fuz.sounds_like(i, j) & meta.sounds_like(i, j)):\n",
    "                    surs.append(j)\n",
    "            for j in surs:\n",
    "                if similar(i, j) >= ratio:\n",
    "                    ratio = similar(i, j)\n",
    "                    if ratio in dict1.keys():\n",
    "                        dict1[ratio].append(i)\n",
    "                        dict1[ratio] = list(set(dict1[ratio]))\n",
    "                    else:\n",
    "                        dict1[ratio] = [i]  \n",
    "        if len(dict1)>0:\n",
    "            max_key = max(dict1, key=lambda k: dict1[k])\n",
    "            ans = ' '.join(dict1[max_key])\n",
    "        else:\n",
    "            ans = None\n",
    "        return ans\n",
    "    else:\n",
    "        return row['new_col']"
   ]
  },
  {
   "cell_type": "code",
   "execution_count": 10,
   "metadata": {
    "scrolled": true
   },
   "outputs": [
    {
     "name": "stderr",
     "output_type": "stream",
     "text": [
      "/usr/local/lib/python3.5/dist-packages/ipykernel_launcher.py:1: SettingWithCopyWarning: \n",
      "A value is trying to be set on a copy of a slice from a DataFrame\n",
      "\n",
      "See the caveats in the documentation: http://pandas.pydata.org/pandas-docs/stable/indexing.html#indexing-view-versus-copy\n",
      "  \"\"\"Entry point for launching an IPython kernel.\n"
     ]
    }
   ],
   "source": [
    "train['surs'][train['surs']=='None'] = train[train['surs']=='None'].apply(awl_in, axis=1)\n",
    "train['surs'] = train['surs'].astype(str)"
   ]
  },
  {
   "cell_type": "code",
   "execution_count": 11,
   "metadata": {},
   "outputs": [
    {
     "name": "stderr",
     "output_type": "stream",
     "text": [
      "/usr/local/lib/python3.5/dist-packages/pandas/core/indexing.py:194: SettingWithCopyWarning: \n",
      "A value is trying to be set on a copy of a slice from a DataFrame\n",
      "\n",
      "See the caveats in the documentation: http://pandas.pydata.org/pandas-docs/stable/indexing.html#indexing-view-versus-copy\n",
      "  self._setitem_with_indexer(indexer, value)\n"
     ]
    }
   ],
   "source": [
    "new_l = list(set(list(train['surs'])))\n",
    "new_l.remove('None')\n",
    "for i in new_l:\n",
    "    t.insert(i)\n",
    "l = train[train['surs']=='None'].apply(awl_in, axis=1)\n",
    "for i in list(l.index):\n",
    "    train['surs'].loc[i] = l.loc[i]\n",
    "train['surs'] = train['surs'].astype(str)"
   ]
  },
  {
   "cell_type": "code",
   "execution_count": 13,
   "metadata": {},
   "outputs": [
    {
     "data": {
      "text/plain": [
       "(22, 9)"
      ]
     },
     "execution_count": 13,
     "metadata": {},
     "output_type": "execute_result"
    }
   ],
   "source": [
    "train[train['surs']=='None'].shape"
   ]
  },
  {
   "cell_type": "code",
   "execution_count": 14,
   "metadata": {
    "collapsed": true
   },
   "outputs": [],
   "source": [
    "url = (\n",
    "    \"http://rc50-api.nameapi.org/rest/v5.0/parser/personnameparser?\"\n",
    "    \"apiKey=f9167e1d1792481e6ca256c37aaf91b0-user1\"\n",
    ")"
   ]
  },
  {
   "cell_type": "code",
   "execution_count": 15,
   "metadata": {},
   "outputs": [],
   "source": [
    "def nameapi(x):\n",
    "    payload = {\n",
    "        \"inputPerson\": {\n",
    "            \"type\": \"NaturalInputPerson\",\n",
    "            \"personName\": {\n",
    "                \"nameFields\": [\n",
    "                    {\n",
    "                        \"string\": x,\n",
    "                        \"fieldType\": \"FULLNAME\"}\n",
    "                ]\n",
    "            },\n",
    "            \"gender\": \"UNKNOWN\"\n",
    "        }\n",
    "    }\n",
    "    ans = None\n",
    "    # Proceed, only if no error:\n",
    "    try:\n",
    "        time.sleep(1)\n",
    "        resp = requests.post(url, json=payload)\n",
    "        resp.raise_for_status()\n",
    "        # Decode JSON response into a Python dict:\n",
    "        resp_dict = resp.json()\n",
    "        ans = resp_dict\n",
    "    except requests.exceptions.HTTPError as e:\n",
    "        print(\"Bad HTTP status code:\", e)\n",
    "    except requests.exceptions.RequestException as e:\n",
    "        print(\"Network error:\", e)\n",
    "    try:\n",
    "        if ans:\n",
    "            ans = ans['matches'][0]['parsedPerson']['addressingSurname']\n",
    "    except:\n",
    "        pass\n",
    "    return ans"
   ]
  },
  {
   "cell_type": "code",
   "execution_count": 16,
   "metadata": {},
   "outputs": [
    {
     "name": "stderr",
     "output_type": "stream",
     "text": [
      "/usr/local/lib/python3.5/dist-packages/ipykernel_launcher.py:2: SettingWithCopyWarning: \n",
      "A value is trying to be set on a copy of a slice from a DataFrame.\n",
      "Try using .loc[row_indexer,col_indexer] = value instead\n",
      "\n",
      "See the caveats in the documentation: http://pandas.pydata.org/pandas-docs/stable/indexing.html#indexing-view-versus-copy\n",
      "  \n",
      "/usr/local/lib/python3.5/dist-packages/pandas/core/indexing.py:194: SettingWithCopyWarning: \n",
      "A value is trying to be set on a copy of a slice from a DataFrame\n",
      "\n",
      "See the caveats in the documentation: http://pandas.pydata.org/pandas-docs/stable/indexing.html#indexing-view-versus-copy\n",
      "  self._setitem_with_indexer(indexer, value)\n"
     ]
    }
   ],
   "source": [
    "train2 = train[train['surs']=='None']\n",
    "train2['surs_conf'] = train2['new_col'].apply(lambda x: nameapi(x))\n",
    "for i in list(train2.index):\n",
    "    train['surs'].loc[i] = train2['surs_conf'].loc[i]\n",
    "train['surs'] = train['surs'].astype(str)"
   ]
  },
  {
   "cell_type": "code",
   "execution_count": 17,
   "metadata": {
    "collapsed": true
   },
   "outputs": [],
   "source": [
    "train['surs'] = train['surs'].apply(lambda x: x.lower())"
   ]
  },
  {
   "cell_type": "code",
   "execution_count": 20,
   "metadata": {},
   "outputs": [],
   "source": [
    "train.to_csv('/home/shameer/Desktop/Booths/English/089_Surs/008.csv', index=False)"
   ]
  }
 ],
 "metadata": {
  "kernelspec": {
   "display_name": "Python 3",
   "language": "python",
   "name": "python3"
  },
  "language_info": {
   "codemirror_mode": {
    "name": "ipython",
    "version": 3
   },
   "file_extension": ".py",
   "mimetype": "text/x-python",
   "name": "python",
   "nbconvert_exporter": "python",
   "pygments_lexer": "ipython3",
   "version": "3.5.3"
  }
 },
 "nbformat": 4,
 "nbformat_minor": 2
}
